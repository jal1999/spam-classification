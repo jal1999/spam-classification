{
 "cells": [
  {
   "cell_type": "code",
   "execution_count": 1327,
   "id": "da15ee23",
   "metadata": {},
   "outputs": [
    {
     "name": "stderr",
     "output_type": "stream",
     "text": [
      "[nltk_data] Downloading package stopwords to\n",
      "[nltk_data]     /Users/jamielafarr/nltk_data...\n",
      "[nltk_data]   Package stopwords is already up-to-date!\n"
     ]
    }
   ],
   "source": [
    "import numpy as np\n",
    "import pandas as pd\n",
    "from data_funs import read_data, thing, prune_feats\n",
    "from collections import defaultdict, Counter\n",
    "import re\n",
    "import matplotlib.pyplot as plt\n",
    "import nltk\n",
    "from nltk.corpus import stopwords\n",
    "from nltk.stem import PorterStemmer\n",
    "import torch\n",
    "import torch.nn as nn\n",
    "nltk.download('stopwords')\n",
    "import sklearn"
   ]
  },
  {
   "cell_type": "markdown",
   "id": "70294d26",
   "metadata": {},
   "source": [
    "# 1. Data Retrieval"
   ]
  },
  {
   "cell_type": "code",
   "execution_count": 1344,
   "id": "64d952ab",
   "metadata": {},
   "outputs": [
    {
     "data": {
      "text/html": [
       "<div>\n",
       "<style scoped>\n",
       "    .dataframe tbody tr th:only-of-type {\n",
       "        vertical-align: middle;\n",
       "    }\n",
       "\n",
       "    .dataframe tbody tr th {\n",
       "        vertical-align: top;\n",
       "    }\n",
       "\n",
       "    .dataframe thead th {\n",
       "        text-align: right;\n",
       "    }\n",
       "</style>\n",
       "<table border=\"1\" class=\"dataframe\">\n",
       "  <thead>\n",
       "    <tr style=\"text-align: right;\">\n",
       "      <th></th>\n",
       "      <th>v1</th>\n",
       "      <th>v2</th>\n",
       "    </tr>\n",
       "  </thead>\n",
       "  <tbody>\n",
       "    <tr>\n",
       "      <th>0</th>\n",
       "      <td>ham</td>\n",
       "      <td>Go until jurong point, crazy.. Available only ...</td>\n",
       "    </tr>\n",
       "    <tr>\n",
       "      <th>1</th>\n",
       "      <td>ham</td>\n",
       "      <td>Ok lar... Joking wif u oni...</td>\n",
       "    </tr>\n",
       "    <tr>\n",
       "      <th>2</th>\n",
       "      <td>spam</td>\n",
       "      <td>Free entry in 2 a wkly comp to win FA Cup fina...</td>\n",
       "    </tr>\n",
       "    <tr>\n",
       "      <th>3</th>\n",
       "      <td>ham</td>\n",
       "      <td>U dun say so early hor... U c already then say...</td>\n",
       "    </tr>\n",
       "    <tr>\n",
       "      <th>4</th>\n",
       "      <td>ham</td>\n",
       "      <td>Nah I don't think he goes to usf, he lives aro...</td>\n",
       "    </tr>\n",
       "  </tbody>\n",
       "</table>\n",
       "</div>"
      ],
      "text/plain": [
       "     v1                                                 v2\n",
       "0   ham  Go until jurong point, crazy.. Available only ...\n",
       "1   ham                      Ok lar... Joking wif u oni...\n",
       "2  spam  Free entry in 2 a wkly comp to win FA Cup fina...\n",
       "3   ham  U dun say so early hor... U c already then say...\n",
       "4   ham  Nah I don't think he goes to usf, he lives aro..."
      ]
     },
     "execution_count": 1344,
     "metadata": {},
     "output_type": "execute_result"
    }
   ],
   "source": [
    "data = read_data()\n",
    "data.head()"
   ]
  },
  {
   "cell_type": "markdown",
   "id": "0a177c61",
   "metadata": {},
   "source": [
    "## Partiton features & labels into train / test"
   ]
  },
  {
   "cell_type": "code",
   "execution_count": 1329,
   "id": "0bc21ba2",
   "metadata": {},
   "outputs": [],
   "source": [
    "labels, test_l, features, test = data.iloc[:4000, 0], data.iloc[4000:, 0], data.iloc[:4000, 1], data.iloc[4000:, 1]"
   ]
  },
  {
   "cell_type": "markdown",
   "id": "40b3fa4b",
   "metadata": {},
   "source": [
    "## Convert into numpy"
   ]
  },
  {
   "cell_type": "code",
   "execution_count": 1330,
   "id": "2228d1fa",
   "metadata": {},
   "outputs": [],
   "source": [
    "labels, features, test, test_l = labels.to_numpy(), features.to_numpy(), test.to_numpy(), test_l.to_numpy()\n",
    "for i, example in enumerate(labels):\n",
    "    if example == 'ham':\n",
    "        labels[i] = 0\n",
    "    else:\n",
    "        labels[i] = 1\n",
    "for i, example in enumerate(test_l):\n",
    "    if example == 'ham':\n",
    "        test_l[i] = 0\n",
    "    else:\n",
    "        test_l[i] = 1\n",
    "labels = labels.astype(float)"
   ]
  },
  {
   "cell_type": "markdown",
   "id": "1051ca28",
   "metadata": {},
   "source": [
    "# 2. Preprocessing"
   ]
  },
  {
   "cell_type": "markdown",
   "id": "5d2b1cf6",
   "metadata": {},
   "source": [
    "## Remove punctuation, lowercase, and stem features"
   ]
  },
  {
   "cell_type": "code",
   "execution_count": 1331,
   "id": "1ddd4d22",
   "metadata": {},
   "outputs": [],
   "source": [
    "ps = PorterStemmer()\n",
    "for i in range(features.shape[0]):\n",
    "    features[i] = re.sub(r'[^\\w\\s]','',features[i])\n",
    "    features[i] = ps.stem(features[i]).lower()\n",
    "for i in range(test.shape[0]):\n",
    "    test[i] = re.sub(r'[^\\w\\s]','',test[i])\n",
    "    test[i] = ps.stem(test[i]).lower()"
   ]
  },
  {
   "cell_type": "markdown",
   "id": "0c08c7a4",
   "metadata": {},
   "source": [
    "# 3. Compute feature counts for each label"
   ]
  },
  {
   "cell_type": "code",
   "execution_count": 1332,
   "id": "72110a02",
   "metadata": {},
   "outputs": [],
   "source": [
    "l = [0, 1] # [ham, spam]\n",
    "word_counts = defaultdict(lambda: Counter())\n",
    "for label in l:\n",
    "    for lab, example in zip(labels, features):\n",
    "        if lab != label:\n",
    "            continue\n",
    "        word_counts[label] += Counter(example.split(' '))"
   ]
  },
  {
   "cell_type": "markdown",
   "id": "372ad97a",
   "metadata": {},
   "source": [
    "# 4. Convert features to number of positive / negative counts"
   ]
  },
  {
   "cell_type": "code",
   "execution_count": 1333,
   "id": "9ce24453",
   "metadata": {},
   "outputs": [],
   "source": [
    "feats = torch.zeros((features.shape[0], 2), dtype=float)\n",
    "test_feats = torch.zeros((test.shape[0], 2), dtype=float)\n",
    "for i, example in enumerate(features):\n",
    "    counts = defaultdict(float)\n",
    "    for word in example.split(' '):\n",
    "        for label in l:\n",
    "            counts[label] += word_counts[label][word]\n",
    "    feats[i][0] = float(counts[0])\n",
    "    feats[i][1] = float(counts[1])\n",
    "for i, example in enumerate(test):\n",
    "    counts = defaultdict(float)\n",
    "    for word in example.split(' '):\n",
    "        for label in l:\n",
    "            counts[label] += word_counts[label][word]\n",
    "    test_feats[i][0] = float(counts[0])\n",
    "    test_feats[i][1] = float(counts[1])"
   ]
  },
  {
   "cell_type": "markdown",
   "id": "38f4ac43",
   "metadata": {},
   "source": [
    "# 5. Create logistic regression model"
   ]
  },
  {
   "cell_type": "code",
   "execution_count": 1334,
   "id": "02ef65c5",
   "metadata": {},
   "outputs": [],
   "source": [
    "class LogisticRegression(nn.Module):\n",
    "    def __init__(self, input_dim, output_dim):\n",
    "        super().__init__()\n",
    "        self.input_dim = input_dim\n",
    "        self.output_dim = output_dim\n",
    "        self.layer1 = nn.Linear(input_dim, 2)\n",
    "        self.sigmoid = nn.Sigmoid()\n",
    "        self.act = nn.Tanh()\n",
    "        self.layer2 = nn.Linear(2, 1)\n",
    "        self.layer3 = nn.Linear(1, 1)\n",
    "        \n",
    "    def forward(self, x):\n",
    "        y = self.layer1(x)\n",
    "        y = self.act(y)\n",
    "        y = self.layer2(y)\n",
    "        y = self.act(y)\n",
    "        y = self.layer3(y)\n",
    "        return self.sigmoid(y)"
   ]
  },
  {
   "cell_type": "markdown",
   "id": "bf9c37f0",
   "metadata": {},
   "source": [
    "# 6. Initialize model & its parameters"
   ]
  },
  {
   "cell_type": "code",
   "execution_count": 1335,
   "id": "3bc2cf6d",
   "metadata": {},
   "outputs": [],
   "source": [
    "model = LogisticRegression(2, 1)\n",
    "loss_fn = nn.BCELoss()\n",
    "optimizer = torch.optim.Adam(model.parameters(), lr=.005)"
   ]
  },
  {
   "cell_type": "markdown",
   "id": "a9870a4a",
   "metadata": {},
   "source": [
    "# 7. Minimize cost function"
   ]
  },
  {
   "cell_type": "code",
   "execution_count": 1336,
   "id": "e4fee735",
   "metadata": {},
   "outputs": [
    {
     "name": "stdout",
     "output_type": "stream",
     "text": [
      "tensor(0.1451, grad_fn=<BinaryCrossEntropyBackward0>)\n"
     ]
    }
   ],
   "source": [
    "epochs = 10000\n",
    "for i in range(epochs):\n",
    "    output = model(feats.float())\n",
    "    output = output.view(4000, 1)\n",
    "    loss = loss_fn(output, torch.tensor(labels).view(4000, 1).float())\n",
    "    if i % 10 == 0 or i == epochs - 1:\n",
    "        pass\n",
    "        print(f'epoch #{i}, loss: {loss}, weight: {model.layer1.weight}')\n",
    "    loss.backward()\n",
    "    optimizer.step()\n",
    "    optimizer.zero_grad()"
   ]
  },
  {
   "cell_type": "markdown",
   "id": "b3729602",
   "metadata": {},
   "source": [
    "# Run model against test set"
   ]
  },
  {
   "cell_type": "code",
   "execution_count": 1343,
   "id": "5770f48e",
   "metadata": {},
   "outputs": [
    {
     "name": "stdout",
     "output_type": "stream",
     "text": [
      "Accuracy: 94.66%\n"
     ]
    }
   ],
   "source": [
    "with torch.no_grad():\n",
    "    y_pred=model(test_feats.float()) \n",
    "    y_pred = y_pred.round()\n",
    "    accuracy=((y_pred_class == torch.tensor(test_l.astype(float)).view(1572, 1)).sum()) / 1572\n",
    "    print(f'Accuracy: {round(accuracy.item() * 100, 2)}%')"
   ]
  }
 ],
 "metadata": {
  "kernelspec": {
   "display_name": "Python 3 (ipykernel)",
   "language": "python",
   "name": "python3"
  },
  "language_info": {
   "codemirror_mode": {
    "name": "ipython",
    "version": 3
   },
   "file_extension": ".py",
   "mimetype": "text/x-python",
   "name": "python",
   "nbconvert_exporter": "python",
   "pygments_lexer": "ipython3",
   "version": "3.9.12"
  }
 },
 "nbformat": 4,
 "nbformat_minor": 5
}
